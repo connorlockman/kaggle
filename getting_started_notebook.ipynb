{
 "cells": [
  {
   "cell_type": "markdown",
   "id": "f783c027",
   "metadata": {
    "papermill": {
     "duration": 0.00342,
     "end_time": "2022-07-18T21:01:01.255082",
     "exception": false,
     "start_time": "2022-07-18T21:01:01.251662",
     "status": "completed"
    },
    "tags": []
   },
   "source": [
    "# Making a sample Notebook for Getting Started"
   ]
  },
  {
   "cell_type": "code",
   "execution_count": 1,
   "id": "ee6241a2",
   "metadata": {
    "_cell_guid": "b1076dfc-b9ad-4769-8c92-a6c4dae69d19",
    "_uuid": "8f2839f25d086af736a60e9eeb907d3b93b6e0e5",
    "execution": {
     "iopub.execute_input": "2022-07-18T21:01:01.262893Z",
     "iopub.status.busy": "2022-07-18T21:01:01.261946Z",
     "iopub.status.idle": "2022-07-18T21:01:01.277145Z",
     "shell.execute_reply": "2022-07-18T21:01:01.276160Z"
    },
    "papermill": {
     "duration": 0.022078,
     "end_time": "2022-07-18T21:01:01.279810",
     "exception": false,
     "start_time": "2022-07-18T21:01:01.257732",
     "status": "completed"
    },
    "tags": []
   },
   "outputs": [],
   "source": [
    "# This Python 3 environment comes with many helpful analytics libraries installed\n",
    "# It is defined by the kaggle/python Docker image: https://github.com/kaggle/docker-python\n",
    "# For example, here's several helpful packages to load\n",
    "\n",
    "import numpy as np # linear algebra\n",
    "import pandas as pd # data processing, CSV file I/O (e.g. pd.read_csv)\n",
    "\n",
    "# Input data files are available in the read-only \"../input/\" directory\n",
    "# For example, running this (by clicking run or pressing Shift+Enter) will list all files under the input directory\n",
    "\n",
    "import os\n",
    "for dirname, _, filenames in os.walk('/kaggle/input'):\n",
    "    for filename in filenames:\n",
    "        print(os.path.join(dirname, filename))\n",
    "\n",
    "# You can write up to 20GB to the current directory (/kaggle/working/) that gets preserved as output when you create a version using \"Save & Run All\" \n",
    "# You can also write temporary files to /kaggle/temp/, but they won't be saved outside of the current session"
   ]
  },
  {
   "cell_type": "code",
   "execution_count": 2,
   "id": "4d1922d5",
   "metadata": {
    "execution": {
     "iopub.execute_input": "2022-07-18T21:01:01.286398Z",
     "iopub.status.busy": "2022-07-18T21:01:01.285940Z",
     "iopub.status.idle": "2022-07-18T21:01:01.292085Z",
     "shell.execute_reply": "2022-07-18T21:01:01.290977Z"
    },
    "papermill": {
     "duration": 0.013411,
     "end_time": "2022-07-18T21:01:01.295508",
     "exception": false,
     "start_time": "2022-07-18T21:01:01.282097",
     "status": "completed"
    },
    "tags": []
   },
   "outputs": [
    {
     "name": "stdout",
     "output_type": "stream",
     "text": [
      "hello world\n"
     ]
    }
   ],
   "source": [
    "print('hello world')"
   ]
  },
  {
   "cell_type": "code",
   "execution_count": null,
   "id": "deaaa0a6",
   "metadata": {
    "papermill": {
     "duration": 0.002026,
     "end_time": "2022-07-18T21:01:01.300086",
     "exception": false,
     "start_time": "2022-07-18T21:01:01.298060",
     "status": "completed"
    },
    "tags": []
   },
   "outputs": [],
   "source": []
  }
 ],
 "metadata": {
  "kernelspec": {
   "display_name": "Python 3",
   "language": "python",
   "name": "python3"
  },
  "language_info": {
   "codemirror_mode": {
    "name": "ipython",
    "version": 3
   },
   "file_extension": ".py",
   "mimetype": "text/x-python",
   "name": "python",
   "nbconvert_exporter": "python",
   "pygments_lexer": "ipython3",
   "version": "3.7.12"
  },
  "papermill": {
   "default_parameters": {},
   "duration": 12.843969,
   "end_time": "2022-07-18T21:01:02.228169",
   "environment_variables": {},
   "exception": null,
   "input_path": "__notebook__.ipynb",
   "output_path": "__notebook__.ipynb",
   "parameters": {},
   "start_time": "2022-07-18T21:00:49.384200",
   "version": "2.3.4"
  }
 },
 "nbformat": 4,
 "nbformat_minor": 5
}
